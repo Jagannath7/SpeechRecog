{
 "cells": [
  {
   "cell_type": "code",
   "execution_count": 4,
   "metadata": {},
   "outputs": [],
   "source": [
    "import speech_recognition as sr\n",
    "import pyaudio"
   ]
  },
  {
   "cell_type": "code",
   "execution_count": 6,
   "metadata": {},
   "outputs": [
    {
     "data": {
      "text/plain": [
       "['Microsoft Sound Mapper - Input',\n",
       " 'Microphone Array (Realtek High ',\n",
       " 'Microsoft Sound Mapper - Output',\n",
       " 'Speakers (Realtek High Definiti']"
      ]
     },
     "execution_count": 6,
     "metadata": {},
     "output_type": "execute_result"
    }
   ],
   "source": [
    "sr.Microphone.list_microphone_names()"
   ]
  },
  {
   "cell_type": "code",
   "execution_count": 2,
   "metadata": {},
   "outputs": [],
   "source": [
    "r1 = sr.Recognizer()\n",
    "r2 = sr.Recognizer()\n",
    "classify = {'apple':'organic','banana':'organic','plastic':'inorganic'}\n",
    "\n",
    "with sr.Microphone(device_index=1) as source:\n",
    "    audi = r1.listen(source)\n",
    "    if 'hi' in r1.recognize_google(audi):\n",
    "        print(\"speak\")\n",
    "        try:\n",
    "                with sr.Microphone(device_index=1) as source:\n",
    "                        audio = r2.listen(source)\n",
    "                        get = r2.recognize_google(audio)\n",
    "                        print(get)\n",
    "                        for get in (classify):\n",
    "                            print(classify[get])\n",
    "                            break\n",
    "        except sr.UnknownValueError:\n",
    "            print(\"not found\")\n",
    "        except sr.RequestError as re:\n",
    "            print(\"Network Problem\".e)\n",
    "    else:\n",
    "        print(\"Try Again\")\n",
    "        "
   ]
  },
  {
   "cell_type": "code",
   "execution_count": null,
   "metadata": {},
   "outputs": [],
   "source": []
  }
 ],
 "metadata": {
  "kernelspec": {
   "display_name": "Python 3",
   "language": "python",
   "name": "python3"
  },
  "language_info": {
   "codemirror_mode": {
    "name": "ipython",
    "version": 3
   },
   "file_extension": ".py",
   "mimetype": "text/x-python",
   "name": "python",
   "nbconvert_exporter": "python",
   "pygments_lexer": "ipython3",
   "version": "3.6.6"
  }
 },
 "nbformat": 4,
 "nbformat_minor": 2
}
